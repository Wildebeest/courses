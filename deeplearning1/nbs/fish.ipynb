{
 "cells": [
  {
   "cell_type": "markdown",
   "metadata": {},
   "source": [
    "# Create validation set"
   ]
  },
  {
   "cell_type": "code",
   "execution_count": 1,
   "metadata": {
    "collapsed": true
   },
   "outputs": [],
   "source": [
    "path = 'data/fish'\n",
    "trainpath = path + '/train'\n",
    "validpath = path + '/valid'\n",
    "models_path = path+'/models/'"
   ]
  },
  {
   "cell_type": "code",
   "execution_count": 4,
   "metadata": {
    "collapsed": true
   },
   "outputs": [],
   "source": [
    "import os\n",
    "import random\n",
    "\n",
    "if not os.path.exists(models_path):\n",
    "    os.makedirs(models_path)\n",
    "\n",
    "valid_perc = 0.15\n",
    "for fish_type in os.listdir(trainpath):\n",
    "    type_train_path = os.path.join(trainpath, fish_type)\n",
    "    type_valid_path = os.path.join(validpath, fish_type)\n",
    "    if not os.path.exists(type_valid_path):\n",
    "        os.makedirs(type_valid_path)\n",
    "        images = os.listdir(type_train_path)\n",
    "        valid_images = random.sample(images, int(len(images) * valid_perc))\n",
    "        for image in valid_images:\n",
    "            os.rename(os.path.join(type_train_path, image), os.path.join(type_valid_path, image))"
   ]
  },
  {
   "cell_type": "markdown",
   "metadata": {},
   "source": [
    "# Build the VGG16 Model"
   ]
  },
  {
   "cell_type": "code",
   "execution_count": 21,
   "metadata": {
    "collapsed": true
   },
   "outputs": [],
   "source": [
    "from keras import backend as K\n",
    "from keras.models import Sequential\n",
    "from keras.utils.data_utils import get_file\n",
    "from keras.layers.core import Lambda, Flatten, Dense, Dropout\n",
    "from keras.layers.convolutional import Convolution2D, MaxPooling2D\n",
    "import numpy as np\n",
    "\n",
    "vgg_mean = np.array([123.68, 116.779, 103.939], dtype=np.float32).reshape((3, 1, 1))\n",
    "def vgg_preprocess(x):\n",
    "    # subtracts the mean so that we get a 0-centered value\n",
    "    x = x - vgg_mean\n",
    "    \n",
    "    # reverses the axis, since most pretrained data comes from OpenCV, which uses BGR rather than RGB\n",
    "    return x[:, ::-1]\n",
    "\n",
    "def vgg_convblock(model, layers, filters):\n",
    "    for _ in xrange(0, layers):\n",
    "        model.add(Convolution2D(filters, 3, 3, border_mode='same', activation='relu'))\n",
    "    model.add(MaxPooling2D((2, 2), strides=(2, 2)))\n",
    "\n",
    "model = Sequential()\n",
    "model.add(Lambda(vgg_preprocess, input_shape=(3, 224, 224), output_shape=(3,224,224)))\n",
    "vgg_convblock(model, 2, 64)\n",
    "vgg_convblock(model, 2, 128)\n",
    "vgg_convblock(model, 3, 256)\n",
    "vgg_convblock(model, 3, 512)\n",
    "vgg_convblock(model, 3, 512)\n",
    "\n",
    "model.add(Flatten())\n",
    "model.add(Dense(4096, activation='relu'))\n",
    "model.add(Dropout(0.5))\n",
    "model.add(Dense(4096, activation='relu'))\n",
    "model.add(Dropout(0.5))\n",
    "model.add(Dense(1000, activation='softmax'))\n",
    "\n",
    "download_path = 'http://files.fast.ai/models/'\n",
    "weights_file = get_file('vgg16.h5', download_path+'vgg16.h5', cache_subdir='models')\n",
    "model.load_weights(weights_file)"
   ]
  },
  {
   "cell_type": "code",
   "execution_count": 22,
   "metadata": {},
   "outputs": [],
   "source": [
    "conv_layers = [layer for layer in model.layers if type(layer) in [Convolution2D, MaxPooling2D]]\n",
    "for layer in conv_layers:\n",
    "    layer.trainable = False"
   ]
  },
  {
   "cell_type": "code",
   "execution_count": 23,
   "metadata": {},
   "outputs": [
    {
     "name": "stdout",
     "output_type": "stream",
     "text": [
      "____________________________________________________________________________________________________\n",
      "Layer (type)                     Output Shape          Param #     Connected to                     \n",
      "====================================================================================================\n",
      "batchnormalization_14 (BatchNorm (None, 3, 224, 224)   12          batchnormalization_input_2[0][0] \n",
      "____________________________________________________________________________________________________\n",
      "convolution2d_28 (Convolution2D) (None, 64, 224, 224)  1792        lambda_3[0][0]                   \n",
      "                                                                   batchnormalization_14[0][0]      \n",
      "____________________________________________________________________________________________________\n",
      "convolution2d_29 (Convolution2D) (None, 64, 224, 224)  36928       convolution2d_28[0][0]           \n",
      "                                                                   convolution2d_28[1][0]           \n",
      "____________________________________________________________________________________________________\n",
      "maxpooling2d_11 (MaxPooling2D)   (None, 64, 112, 112)  0           convolution2d_29[0][0]           \n",
      "                                                                   convolution2d_29[1][0]           \n",
      "____________________________________________________________________________________________________\n",
      "convolution2d_30 (Convolution2D) (None, 128, 112, 112) 73856       maxpooling2d_11[0][0]            \n",
      "                                                                   maxpooling2d_11[1][0]            \n",
      "____________________________________________________________________________________________________\n",
      "convolution2d_31 (Convolution2D) (None, 128, 112, 112) 147584      convolution2d_30[0][0]           \n",
      "                                                                   convolution2d_30[1][0]           \n",
      "____________________________________________________________________________________________________\n",
      "maxpooling2d_12 (MaxPooling2D)   (None, 128, 56, 56)   0           convolution2d_31[0][0]           \n",
      "                                                                   convolution2d_31[1][0]           \n",
      "____________________________________________________________________________________________________\n",
      "convolution2d_32 (Convolution2D) (None, 256, 56, 56)   295168      maxpooling2d_12[0][0]            \n",
      "                                                                   maxpooling2d_12[1][0]            \n",
      "____________________________________________________________________________________________________\n",
      "convolution2d_33 (Convolution2D) (None, 256, 56, 56)   590080      convolution2d_32[0][0]           \n",
      "                                                                   convolution2d_32[1][0]           \n",
      "____________________________________________________________________________________________________\n",
      "convolution2d_34 (Convolution2D) (None, 256, 56, 56)   590080      convolution2d_33[0][0]           \n",
      "                                                                   convolution2d_33[1][0]           \n",
      "____________________________________________________________________________________________________\n",
      "maxpooling2d_13 (MaxPooling2D)   (None, 256, 28, 28)   0           convolution2d_34[0][0]           \n",
      "                                                                   convolution2d_34[1][0]           \n",
      "____________________________________________________________________________________________________\n",
      "convolution2d_35 (Convolution2D) (None, 512, 28, 28)   1180160     maxpooling2d_13[0][0]            \n",
      "                                                                   maxpooling2d_13[1][0]            \n",
      "____________________________________________________________________________________________________\n",
      "convolution2d_36 (Convolution2D) (None, 512, 28, 28)   2359808     convolution2d_35[0][0]           \n",
      "                                                                   convolution2d_35[1][0]           \n",
      "____________________________________________________________________________________________________\n",
      "convolution2d_37 (Convolution2D) (None, 512, 28, 28)   2359808     convolution2d_36[0][0]           \n",
      "                                                                   convolution2d_36[1][0]           \n",
      "____________________________________________________________________________________________________\n",
      "maxpooling2d_14 (MaxPooling2D)   (None, 512, 14, 14)   0           convolution2d_37[0][0]           \n",
      "                                                                   convolution2d_37[1][0]           \n",
      "____________________________________________________________________________________________________\n",
      "convolution2d_38 (Convolution2D) (None, 512, 14, 14)   2359808     maxpooling2d_14[0][0]            \n",
      "                                                                   maxpooling2d_14[1][0]            \n",
      "____________________________________________________________________________________________________\n",
      "convolution2d_39 (Convolution2D) (None, 512, 14, 14)   2359808     convolution2d_38[0][0]           \n",
      "                                                                   convolution2d_38[1][0]           \n",
      "____________________________________________________________________________________________________\n",
      "convolution2d_40 (Convolution2D) (None, 512, 14, 14)   2359808     convolution2d_39[0][0]           \n",
      "                                                                   convolution2d_39[1][0]           \n",
      "____________________________________________________________________________________________________\n",
      "maxpooling2d_15 (MaxPooling2D)   (None, 512, 7, 7)     0           convolution2d_40[0][0]           \n",
      "                                                                   convolution2d_40[1][0]           \n",
      "____________________________________________________________________________________________________\n",
      "batchnormalization_15 (BatchNorm (None, 512, 7, 7)     2048        maxpooling2d_15[1][0]            \n",
      "____________________________________________________________________________________________________\n",
      "flatten_7 (Flatten)              (None, 25088)         0           batchnormalization_15[0][0]      \n",
      "____________________________________________________________________________________________________\n",
      "dense_19 (Dense)                 (None, 4096)          102764544   flatten_7[0][0]                  \n",
      "____________________________________________________________________________________________________\n",
      "batchnormalization_16 (BatchNorm (None, 4096)          16384       dense_19[0][0]                   \n",
      "____________________________________________________________________________________________________\n",
      "dense_20 (Dense)                 (None, 4096)          16781312    batchnormalization_16[0][0]      \n",
      "____________________________________________________________________________________________________\n",
      "batchnormalization_17 (BatchNorm (None, 4096)          16384       dense_20[0][0]                   \n",
      "____________________________________________________________________________________________________\n",
      "dense_21 (Dense)                 (None, 8)             32776       batchnormalization_17[0][0]      \n",
      "====================================================================================================\n",
      "Total params: 134,328,148\n",
      "Trainable params: 119,596,046\n",
      "Non-trainable params: 14,732,102\n",
      "____________________________________________________________________________________________________\n"
     ]
    }
   ],
   "source": [
    "from keras.layers.normalization import BatchNormalization\n",
    "model = Sequential([BatchNormalization(axis=1, input_shape=(3, 224, 224))] + conv_layers + [\n",
    "    BatchNormalization(axis=1),\n",
    "    Flatten(),\n",
    "    Dense(4096, activation='relu'),\n",
    "    BatchNormalization(),\n",
    "    Dense(4096, activation='relu'),\n",
    "    BatchNormalization(),\n",
    "    Dense(8, activation='softmax')\n",
    "])\n",
    "model.summary()"
   ]
  },
  {
   "cell_type": "code",
   "execution_count": 28,
   "metadata": {
    "collapsed": true
   },
   "outputs": [],
   "source": [
    "from keras.optimizers import Adam\n",
    "model.compile(optimizer=Adam(lr=0.001), loss='categorical_crossentropy', metrics=['accuracy'])"
   ]
  },
  {
   "cell_type": "code",
   "execution_count": 29,
   "metadata": {
    "collapsed": true
   },
   "outputs": [],
   "source": [
    "from keras.preprocessing.image import ImageDataGenerator\n",
    "def batch_gen(path, class_mode='categorical', shuffle=True):\n",
    "    return ImageDataGenerator().flow_from_directory(path, target_size=(224, 224), batch_size=16, class_mode=class_mode, shuffle=shuffle)"
   ]
  },
  {
   "cell_type": "code",
   "execution_count": 30,
   "metadata": {},
   "outputs": [
    {
     "name": "stdout",
     "output_type": "stream",
     "text": [
      "Found 3214 images belonging to 8 classes.\n",
      "Found 563 images belonging to 8 classes.\n"
     ]
    }
   ],
   "source": [
    "train_gen = batch_gen(trainpath)\n",
    "valid_gen = batch_gen(validpath)"
   ]
  },
  {
   "cell_type": "code",
   "execution_count": 31,
   "metadata": {},
   "outputs": [
    {
     "name": "stdout",
     "output_type": "stream",
     "text": [
      "Epoch 1/3\n",
      "3214/3214 [==============================] - 110s - loss: 5.0484 - acc: 0.5765 - val_loss: 2.8254 - val_acc: 0.6909\n",
      "Epoch 2/3\n",
      "3214/3214 [==============================] - 107s - loss: 1.7700 - acc: 0.8037 - val_loss: 0.6561 - val_acc: 0.9130\n",
      "Epoch 3/3\n",
      "3214/3214 [==============================] - 108s - loss: 0.6295 - acc: 0.8995 - val_loss: 0.6521 - val_acc: 0.8863\n"
     ]
    },
    {
     "data": {
      "text/plain": [
       "<keras.callbacks.History at 0x8db45dd8>"
      ]
     },
     "execution_count": 31,
     "metadata": {},
     "output_type": "execute_result"
    }
   ],
   "source": [
    "model.fit_generator(train_gen, samples_per_epoch=train_gen.nb_sample, nb_epoch=3, \n",
    "                    validation_data=valid_gen, nb_val_samples=valid_gen.nb_sample)"
   ]
  },
  {
   "cell_type": "code",
   "execution_count": 32,
   "metadata": {
    "collapsed": true
   },
   "outputs": [],
   "source": [
    "model.save_weights(models_path+'first_cut.h5')"
   ]
  },
  {
   "cell_type": "code",
   "execution_count": 33,
   "metadata": {},
   "outputs": [
    {
     "name": "stdout",
     "output_type": "stream",
     "text": [
      "Epoch 1/3\n",
      "3214/3214 [==============================] - 107s - loss: 0.3538 - acc: 0.9384 - val_loss: 0.3427 - val_acc: 0.9432\n",
      "Epoch 2/3\n",
      "3214/3214 [==============================] - 107s - loss: 0.1696 - acc: 0.9639 - val_loss: 0.3189 - val_acc: 0.9449\n",
      "Epoch 3/3\n",
      "3214/3214 [==============================] - 107s - loss: 0.2159 - acc: 0.9627 - val_loss: 0.3623 - val_acc: 0.9449\n"
     ]
    },
    {
     "data": {
      "text/plain": [
       "<keras.callbacks.History at 0x9e554400>"
      ]
     },
     "execution_count": 33,
     "metadata": {},
     "output_type": "execute_result"
    }
   ],
   "source": [
    "model.optimizer.lr = 0.0001\n",
    "model.fit_generator(train_gen, samples_per_epoch=train_gen.nb_sample, nb_epoch=3, \n",
    "                    validation_data=valid_gen, nb_val_samples=valid_gen.nb_sample)"
   ]
  },
  {
   "cell_type": "code",
   "execution_count": 34,
   "metadata": {
    "collapsed": true
   },
   "outputs": [],
   "source": [
    "model.save_weights(models_path+'second_cut.h5')"
   ]
  },
  {
   "cell_type": "code",
   "execution_count": 35,
   "metadata": {},
   "outputs": [
    {
     "name": "stdout",
     "output_type": "stream",
     "text": [
      "Epoch 1/3\n",
      "3214/3214 [==============================] - 116s - loss: 0.2514 - acc: 0.9571 - val_loss: 0.3904 - val_acc: 0.9520\n",
      "Epoch 2/3\n",
      "3214/3214 [==============================] - 108s - loss: 0.2511 - acc: 0.9586 - val_loss: 0.3589 - val_acc: 0.9414\n",
      "Epoch 3/3\n",
      "3214/3214 [==============================] - 108s - loss: 0.1957 - acc: 0.9689 - val_loss: 0.7567 - val_acc: 0.9076\n"
     ]
    },
    {
     "data": {
      "text/plain": [
       "<keras.callbacks.History at 0x9e548cc0>"
      ]
     },
     "execution_count": 35,
     "metadata": {},
     "output_type": "execute_result"
    }
   ],
   "source": [
    "model.optimizer.lr = 0.00001\n",
    "model.fit_generator(train_gen, samples_per_epoch=train_gen.nb_sample, nb_epoch=3, \n",
    "                    validation_data=valid_gen, nb_val_samples=valid_gen.nb_sample)"
   ]
  },
  {
   "cell_type": "code",
   "execution_count": 36,
   "metadata": {
    "collapsed": true
   },
   "outputs": [],
   "source": [
    "model.load_weights(models_path+'second_cut.h5')"
   ]
  },
  {
   "cell_type": "markdown",
   "metadata": {},
   "source": [
    "# Generate a test submission for part 1"
   ]
  },
  {
   "cell_type": "code",
   "execution_count": 58,
   "metadata": {},
   "outputs": [
    {
     "name": "stdout",
     "output_type": "stream",
     "text": [
      "Found 1000 images belonging to 1 classes.\n"
     ]
    }
   ],
   "source": [
    "testpath = path + '/test_stg1'\n",
    "test_gen = batch_gen(testpath, class_mode=None, shuffle=False)"
   ]
  },
  {
   "cell_type": "code",
   "execution_count": 59,
   "metadata": {
    "collapsed": true
   },
   "outputs": [],
   "source": [
    "predictions_one = model.predict_generator(test_gen, test_gen.nb_sample)"
   ]
  },
  {
   "cell_type": "code",
   "execution_count": 60,
   "metadata": {},
   "outputs": [
    {
     "data": {
      "text/html": [
       "<div>\n",
       "<style>\n",
       "    .dataframe thead tr:only-child th {\n",
       "        text-align: right;\n",
       "    }\n",
       "\n",
       "    .dataframe thead th {\n",
       "        text-align: left;\n",
       "    }\n",
       "\n",
       "    .dataframe tbody tr th {\n",
       "        vertical-align: top;\n",
       "    }\n",
       "</style>\n",
       "<table border=\"1\" class=\"dataframe\">\n",
       "  <thead>\n",
       "    <tr style=\"text-align: right;\">\n",
       "      <th></th>\n",
       "      <th>image</th>\n",
       "      <th>ALB</th>\n",
       "      <th>BET</th>\n",
       "      <th>DOL</th>\n",
       "      <th>LAG</th>\n",
       "      <th>NoF</th>\n",
       "      <th>OTHER</th>\n",
       "      <th>SHARK</th>\n",
       "      <th>YFT</th>\n",
       "    </tr>\n",
       "  </thead>\n",
       "  <tbody>\n",
       "    <tr>\n",
       "      <th>0</th>\n",
       "      <td>img_00005.jpg</td>\n",
       "      <td>2.075544e-17</td>\n",
       "      <td>7.957907e-21</td>\n",
       "      <td>2.798510e-22</td>\n",
       "      <td>5.780269e-18</td>\n",
       "      <td>1.000000e+00</td>\n",
       "      <td>5.006262e-33</td>\n",
       "      <td>3.334641e-22</td>\n",
       "      <td>4.182636e-24</td>\n",
       "    </tr>\n",
       "    <tr>\n",
       "      <th>1</th>\n",
       "      <td>img_00007.jpg</td>\n",
       "      <td>9.999990e-01</td>\n",
       "      <td>4.539869e-08</td>\n",
       "      <td>2.045214e-08</td>\n",
       "      <td>1.361729e-10</td>\n",
       "      <td>8.662252e-11</td>\n",
       "      <td>5.680070e-07</td>\n",
       "      <td>2.994132e-07</td>\n",
       "      <td>1.238451e-09</td>\n",
       "    </tr>\n",
       "    <tr>\n",
       "      <th>2</th>\n",
       "      <td>img_00009.jpg</td>\n",
       "      <td>9.999945e-01</td>\n",
       "      <td>2.478718e-06</td>\n",
       "      <td>1.911671e-08</td>\n",
       "      <td>5.920632e-10</td>\n",
       "      <td>3.989150e-10</td>\n",
       "      <td>9.096841e-07</td>\n",
       "      <td>2.278376e-07</td>\n",
       "      <td>1.884298e-06</td>\n",
       "    </tr>\n",
       "    <tr>\n",
       "      <th>3</th>\n",
       "      <td>img_00018.jpg</td>\n",
       "      <td>9.999998e-01</td>\n",
       "      <td>1.255315e-10</td>\n",
       "      <td>2.862696e-10</td>\n",
       "      <td>6.951282e-12</td>\n",
       "      <td>1.090699e-11</td>\n",
       "      <td>6.353689e-10</td>\n",
       "      <td>3.931809e-09</td>\n",
       "      <td>2.154998e-07</td>\n",
       "    </tr>\n",
       "    <tr>\n",
       "      <th>4</th>\n",
       "      <td>img_00027.jpg</td>\n",
       "      <td>9.713554e-01</td>\n",
       "      <td>4.695924e-08</td>\n",
       "      <td>6.890896e-09</td>\n",
       "      <td>3.790317e-09</td>\n",
       "      <td>1.291641e-08</td>\n",
       "      <td>3.784194e-11</td>\n",
       "      <td>1.630878e-05</td>\n",
       "      <td>2.862824e-02</td>\n",
       "    </tr>\n",
       "  </tbody>\n",
       "</table>\n",
       "</div>"
      ],
      "text/plain": [
       "           image           ALB           BET           DOL           LAG  \\\n",
       "0  img_00005.jpg  2.075544e-17  7.957907e-21  2.798510e-22  5.780269e-18   \n",
       "1  img_00007.jpg  9.999990e-01  4.539869e-08  2.045214e-08  1.361729e-10   \n",
       "2  img_00009.jpg  9.999945e-01  2.478718e-06  1.911671e-08  5.920632e-10   \n",
       "3  img_00018.jpg  9.999998e-01  1.255315e-10  2.862696e-10  6.951282e-12   \n",
       "4  img_00027.jpg  9.713554e-01  4.695924e-08  6.890896e-09  3.790317e-09   \n",
       "\n",
       "            NoF         OTHER         SHARK           YFT  \n",
       "0  1.000000e+00  5.006262e-33  3.334641e-22  4.182636e-24  \n",
       "1  8.662252e-11  5.680070e-07  2.994132e-07  1.238451e-09  \n",
       "2  3.989150e-10  9.096841e-07  2.278376e-07  1.884298e-06  \n",
       "3  1.090699e-11  6.353689e-10  3.931809e-09  2.154998e-07  \n",
       "4  1.291641e-08  3.784194e-11  1.630878e-05  2.862824e-02  "
      ]
     },
     "execution_count": 60,
     "metadata": {},
     "output_type": "execute_result"
    }
   ],
   "source": [
    "import pandas as pd\n",
    "\n",
    "classes = sorted(train_gen.class_indices, key=train_gen.class_indices.get)\n",
    "submission_one = pd.DataFrame(predictions_one, columns=classes)\n",
    "submission_one.insert(0, 'image', [os.path.basename(filename) for filename in test_gen.filenames])\n",
    "submission_one.head()"
   ]
  },
  {
   "cell_type": "code",
   "execution_count": 61,
   "metadata": {
    "collapsed": true
   },
   "outputs": [],
   "source": [
    "# submission_one.to_csv(os.path.join(path, 'stage_one.csv.gz'), index=False, compression='gzip')"
   ]
  },
  {
   "cell_type": "markdown",
   "metadata": {},
   "source": [
    "# Generate a test submission for part 2"
   ]
  },
  {
   "cell_type": "code",
   "execution_count": 62,
   "metadata": {},
   "outputs": [
    {
     "name": "stdout",
     "output_type": "stream",
     "text": [
      "Found 12153 images belonging to 1 classes.\n"
     ]
    }
   ],
   "source": [
    "testpath = path + '/test_stg2'\n",
    "test_gen = batch_gen(testpath, class_mode=None, shuffle=False)"
   ]
  },
  {
   "cell_type": "code",
   "execution_count": 63,
   "metadata": {
    "collapsed": true
   },
   "outputs": [],
   "source": [
    "predictions_two = model.predict_generator(test_gen, test_gen.nb_sample)"
   ]
  },
  {
   "cell_type": "code",
   "execution_count": 64,
   "metadata": {},
   "outputs": [
    {
     "data": {
      "text/html": [
       "<div>\n",
       "<style>\n",
       "    .dataframe thead tr:only-child th {\n",
       "        text-align: right;\n",
       "    }\n",
       "\n",
       "    .dataframe thead th {\n",
       "        text-align: left;\n",
       "    }\n",
       "\n",
       "    .dataframe tbody tr th {\n",
       "        vertical-align: top;\n",
       "    }\n",
       "</style>\n",
       "<table border=\"1\" class=\"dataframe\">\n",
       "  <thead>\n",
       "    <tr style=\"text-align: right;\">\n",
       "      <th></th>\n",
       "      <th>image</th>\n",
       "      <th>ALB</th>\n",
       "      <th>BET</th>\n",
       "      <th>DOL</th>\n",
       "      <th>LAG</th>\n",
       "      <th>NoF</th>\n",
       "      <th>OTHER</th>\n",
       "      <th>SHARK</th>\n",
       "      <th>YFT</th>\n",
       "    </tr>\n",
       "  </thead>\n",
       "  <tbody>\n",
       "    <tr>\n",
       "      <th>0</th>\n",
       "      <td>test_stg2/image_00001.jpg</td>\n",
       "      <td>0.833023</td>\n",
       "      <td>0.001580</td>\n",
       "      <td>0.000535</td>\n",
       "      <td>0.002036</td>\n",
       "      <td>0.001063</td>\n",
       "      <td>0.125616</td>\n",
       "      <td>2.045767e-03</td>\n",
       "      <td>0.034101</td>\n",
       "    </tr>\n",
       "    <tr>\n",
       "      <th>1</th>\n",
       "      <td>test_stg2/image_00002.jpg</td>\n",
       "      <td>0.926447</td>\n",
       "      <td>0.006298</td>\n",
       "      <td>0.001134</td>\n",
       "      <td>0.006286</td>\n",
       "      <td>0.000659</td>\n",
       "      <td>0.030217</td>\n",
       "      <td>2.388213e-03</td>\n",
       "      <td>0.026570</td>\n",
       "    </tr>\n",
       "    <tr>\n",
       "      <th>2</th>\n",
       "      <td>test_stg2/image_00003.jpg</td>\n",
       "      <td>0.997816</td>\n",
       "      <td>0.000001</td>\n",
       "      <td>0.000005</td>\n",
       "      <td>0.000016</td>\n",
       "      <td>0.002148</td>\n",
       "      <td>0.000004</td>\n",
       "      <td>8.701380e-09</td>\n",
       "      <td>0.000011</td>\n",
       "    </tr>\n",
       "    <tr>\n",
       "      <th>3</th>\n",
       "      <td>test_stg2/image_00004.jpg</td>\n",
       "      <td>0.964620</td>\n",
       "      <td>0.016447</td>\n",
       "      <td>0.000027</td>\n",
       "      <td>0.000186</td>\n",
       "      <td>0.000210</td>\n",
       "      <td>0.002062</td>\n",
       "      <td>3.778702e-06</td>\n",
       "      <td>0.016445</td>\n",
       "    </tr>\n",
       "    <tr>\n",
       "      <th>4</th>\n",
       "      <td>test_stg2/image_00005.jpg</td>\n",
       "      <td>0.939952</td>\n",
       "      <td>0.025057</td>\n",
       "      <td>0.000103</td>\n",
       "      <td>0.000521</td>\n",
       "      <td>0.001351</td>\n",
       "      <td>0.000328</td>\n",
       "      <td>1.474283e-06</td>\n",
       "      <td>0.032686</td>\n",
       "    </tr>\n",
       "  </tbody>\n",
       "</table>\n",
       "</div>"
      ],
      "text/plain": [
       "                       image       ALB       BET       DOL       LAG  \\\n",
       "0  test_stg2/image_00001.jpg  0.833023  0.001580  0.000535  0.002036   \n",
       "1  test_stg2/image_00002.jpg  0.926447  0.006298  0.001134  0.006286   \n",
       "2  test_stg2/image_00003.jpg  0.997816  0.000001  0.000005  0.000016   \n",
       "3  test_stg2/image_00004.jpg  0.964620  0.016447  0.000027  0.000186   \n",
       "4  test_stg2/image_00005.jpg  0.939952  0.025057  0.000103  0.000521   \n",
       "\n",
       "        NoF     OTHER         SHARK       YFT  \n",
       "0  0.001063  0.125616  2.045767e-03  0.034101  \n",
       "1  0.000659  0.030217  2.388213e-03  0.026570  \n",
       "2  0.002148  0.000004  8.701380e-09  0.000011  \n",
       "3  0.000210  0.002062  3.778702e-06  0.016445  \n",
       "4  0.001351  0.000328  1.474283e-06  0.032686  "
      ]
     },
     "execution_count": 64,
     "metadata": {},
     "output_type": "execute_result"
    }
   ],
   "source": [
    "import pandas as pd\n",
    "\n",
    "classes = sorted(train_gen.class_indices, key=train_gen.class_indices.get)\n",
    "submission_two = pd.DataFrame(predictions_two, columns=classes)\n",
    "submission_two.insert(0, 'image', ['test_stg2/' + os.path.basename(filename) for filename in test_gen.filenames])\n",
    "submission_two.head()"
   ]
  },
  {
   "cell_type": "code",
   "execution_count": 65,
   "metadata": {},
   "outputs": [
    {
     "data": {
      "text/html": [
       "<div>\n",
       "<style>\n",
       "    .dataframe thead tr:only-child th {\n",
       "        text-align: right;\n",
       "    }\n",
       "\n",
       "    .dataframe thead th {\n",
       "        text-align: left;\n",
       "    }\n",
       "\n",
       "    .dataframe tbody tr th {\n",
       "        vertical-align: top;\n",
       "    }\n",
       "</style>\n",
       "<table border=\"1\" class=\"dataframe\">\n",
       "  <thead>\n",
       "    <tr style=\"text-align: right;\">\n",
       "      <th></th>\n",
       "      <th>image</th>\n",
       "      <th>ALB</th>\n",
       "      <th>BET</th>\n",
       "      <th>DOL</th>\n",
       "      <th>LAG</th>\n",
       "      <th>NoF</th>\n",
       "      <th>OTHER</th>\n",
       "      <th>SHARK</th>\n",
       "      <th>YFT</th>\n",
       "    </tr>\n",
       "  </thead>\n",
       "  <tbody>\n",
       "    <tr>\n",
       "      <th>0</th>\n",
       "      <td>img_00005.jpg</td>\n",
       "      <td>2.075544e-17</td>\n",
       "      <td>7.957907e-21</td>\n",
       "      <td>2.798510e-22</td>\n",
       "      <td>5.780269e-18</td>\n",
       "      <td>1.000000e+00</td>\n",
       "      <td>5.006262e-33</td>\n",
       "      <td>3.334641e-22</td>\n",
       "      <td>4.182636e-24</td>\n",
       "    </tr>\n",
       "    <tr>\n",
       "      <th>1</th>\n",
       "      <td>img_00007.jpg</td>\n",
       "      <td>9.999990e-01</td>\n",
       "      <td>4.539869e-08</td>\n",
       "      <td>2.045214e-08</td>\n",
       "      <td>1.361729e-10</td>\n",
       "      <td>8.662252e-11</td>\n",
       "      <td>5.680070e-07</td>\n",
       "      <td>2.994132e-07</td>\n",
       "      <td>1.238451e-09</td>\n",
       "    </tr>\n",
       "    <tr>\n",
       "      <th>2</th>\n",
       "      <td>img_00009.jpg</td>\n",
       "      <td>9.999945e-01</td>\n",
       "      <td>2.478718e-06</td>\n",
       "      <td>1.911671e-08</td>\n",
       "      <td>5.920632e-10</td>\n",
       "      <td>3.989150e-10</td>\n",
       "      <td>9.096841e-07</td>\n",
       "      <td>2.278376e-07</td>\n",
       "      <td>1.884298e-06</td>\n",
       "    </tr>\n",
       "    <tr>\n",
       "      <th>3</th>\n",
       "      <td>img_00018.jpg</td>\n",
       "      <td>9.999998e-01</td>\n",
       "      <td>1.255315e-10</td>\n",
       "      <td>2.862696e-10</td>\n",
       "      <td>6.951282e-12</td>\n",
       "      <td>1.090699e-11</td>\n",
       "      <td>6.353689e-10</td>\n",
       "      <td>3.931809e-09</td>\n",
       "      <td>2.154998e-07</td>\n",
       "    </tr>\n",
       "    <tr>\n",
       "      <th>4</th>\n",
       "      <td>img_00027.jpg</td>\n",
       "      <td>9.713554e-01</td>\n",
       "      <td>4.695924e-08</td>\n",
       "      <td>6.890896e-09</td>\n",
       "      <td>3.790317e-09</td>\n",
       "      <td>1.291641e-08</td>\n",
       "      <td>3.784194e-11</td>\n",
       "      <td>1.630878e-05</td>\n",
       "      <td>2.862824e-02</td>\n",
       "    </tr>\n",
       "  </tbody>\n",
       "</table>\n",
       "</div>"
      ],
      "text/plain": [
       "           image           ALB           BET           DOL           LAG  \\\n",
       "0  img_00005.jpg  2.075544e-17  7.957907e-21  2.798510e-22  5.780269e-18   \n",
       "1  img_00007.jpg  9.999990e-01  4.539869e-08  2.045214e-08  1.361729e-10   \n",
       "2  img_00009.jpg  9.999945e-01  2.478718e-06  1.911671e-08  5.920632e-10   \n",
       "3  img_00018.jpg  9.999998e-01  1.255315e-10  2.862696e-10  6.951282e-12   \n",
       "4  img_00027.jpg  9.713554e-01  4.695924e-08  6.890896e-09  3.790317e-09   \n",
       "\n",
       "            NoF         OTHER         SHARK           YFT  \n",
       "0  1.000000e+00  5.006262e-33  3.334641e-22  4.182636e-24  \n",
       "1  8.662252e-11  5.680070e-07  2.994132e-07  1.238451e-09  \n",
       "2  3.989150e-10  9.096841e-07  2.278376e-07  1.884298e-06  \n",
       "3  1.090699e-11  6.353689e-10  3.931809e-09  2.154998e-07  \n",
       "4  1.291641e-08  3.784194e-11  1.630878e-05  2.862824e-02  "
      ]
     },
     "execution_count": 65,
     "metadata": {},
     "output_type": "execute_result"
    }
   ],
   "source": [
    "submission = submission_one.append(submission_two, ignore_index=True)\n",
    "submission.head()"
   ]
  },
  {
   "cell_type": "code",
   "execution_count": 66,
   "metadata": {
    "collapsed": true
   },
   "outputs": [],
   "source": [
    "submission.to_csv(os.path.join(path, 'stage_two.csv.gz'), index=False, compression='gzip')"
   ]
  },
  {
   "cell_type": "code",
   "execution_count": null,
   "metadata": {
    "collapsed": true
   },
   "outputs": [],
   "source": []
  }
 ],
 "metadata": {
  "kernelspec": {
   "display_name": "Python 2",
   "language": "python",
   "name": "python2"
  },
  "language_info": {
   "codemirror_mode": {
    "name": "ipython",
    "version": 2
   },
   "file_extension": ".py",
   "mimetype": "text/x-python",
   "name": "python",
   "nbconvert_exporter": "python",
   "pygments_lexer": "ipython2",
   "version": "2.7.13"
  }
 },
 "nbformat": 4,
 "nbformat_minor": 2
}
