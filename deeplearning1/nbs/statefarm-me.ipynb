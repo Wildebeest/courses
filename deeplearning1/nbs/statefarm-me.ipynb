{
 "cells": [
  {
   "cell_type": "markdown",
   "metadata": {},
   "source": [
    "# Create Validation Set\n",
    "First, we move 2 drivers out of the training folder so that we can use them in validation."
   ]
  },
  {
   "cell_type": "code",
   "execution_count": 1,
   "metadata": {
    "collapsed": true
   },
   "outputs": [],
   "source": [
    "path = 'data/statefarm'\n",
    "trainpath = path + '/train'\n",
    "validpath = path + '/valid'"
   ]
  },
  {
   "cell_type": "code",
   "execution_count": 13,
   "metadata": {
    "collapsed": true
   },
   "outputs": [],
   "source": [
    "import os\n",
    "for i in range(0, 10):\n",
    "    cpath = validpath + '/c%d' % i\n",
    "    if not os.path.exists(cpath):\n",
    "        os.makedirs(cpath)"
   ]
  },
  {
   "cell_type": "code",
   "execution_count": 29,
   "metadata": {},
   "outputs": [
    {
     "name": "stdout",
     "output_type": "stream",
     "text": [
      "['p022', 'p049']\n"
     ]
    }
   ],
   "source": [
    "import csv\n",
    "drivers = dict()\n",
    "with open(path + '/driver_imgs_list.csv') as driverlist:\n",
    "    reader = csv.reader(driverlist)\n",
    "    for driver, classname, image in reader:\n",
    "        if not drivers.has_key(driver):\n",
    "            drivers[driver] = list()\n",
    "        drivers[driver].append(os.path.join(classname, image))"
   ]
  },
  {
   "cell_type": "code",
   "execution_count": 35,
   "metadata": {
    "collapsed": true
   },
   "outputs": [],
   "source": [
    "validdrivers = 2\n",
    "driverimages = drivers.values()[0:validdrivers]\n",
    "for images in driverimages:\n",
    "    for image in images:\n",
    "        if os.path.exists(os.path.join(trainpath, image)):\n",
    "            os.rename(os.path.join(trainpath, image), os.path.join(validpath, image))"
   ]
  },
  {
   "cell_type": "code",
   "execution_count": 10,
   "metadata": {
    "collapsed": true
   },
   "outputs": [],
   "source": [
    "samplepath = path+'/sample'\n",
    "import os, shutil\n",
    "\n",
    "def copy_samples(subpath, sample_subpath):\n",
    "    if not os.path.exists(sample_subpath):\n",
    "        os.makedirs(sample_subpath)\n",
    "    for i in range(0, 10):\n",
    "        path_i = '/c%d' % i\n",
    "        subpath_i = subpath + path_i\n",
    "\n",
    "        sample_subpath_i = sample_subpath + path_i\n",
    "        if not os.path.exists(sample_subpath_i):\n",
    "            os.makedirs(sample_subpath_i)\n",
    "\n",
    "        samplefiles = os.listdir(subpath_i)\n",
    "        for image_path in samplefiles[0:10]:\n",
    "            shutil.copyfile(os.path.join(subpath_i, image_path), os.path.join(sample_subpath_i, image_path))\n",
    "            \n",
    "sample_train_path = samplepath + '/train'\n",
    "copy_samples(trainpath, sample_train_path)\n",
    "\n",
    "sample_valid_path = samplepath + '/valid'\n",
    "copy_samples(validpath, sample_valid_path)"
   ]
  },
  {
   "cell_type": "markdown",
   "metadata": {},
   "source": [
    "# Build the VGG16 Model"
   ]
  },
  {
   "cell_type": "code",
   "execution_count": 2,
   "metadata": {
    "collapsed": true
   },
   "outputs": [],
   "source": [
    "download_path = 'http://files.fast.ai/models/'"
   ]
  },
  {
   "cell_type": "code",
   "execution_count": 14,
   "metadata": {},
   "outputs": [
    {
     "name": "stdout",
     "output_type": "stream",
     "text": [
      "____________________________________________________________________________________________________\n",
      "Layer (type)                     Output Shape          Param #     Connected to                     \n",
      "====================================================================================================\n",
      "lambda_4 (Lambda)                (None, 3, 224, 224)   0           lambda_input_4[0][0]             \n",
      "____________________________________________________________________________________________________\n",
      "convolution2d_40 (Convolution2D) (None, 64, 224, 224)  1792        lambda_4[0][0]                   \n",
      "____________________________________________________________________________________________________\n",
      "convolution2d_41 (Convolution2D) (None, 64, 224, 224)  36928       convolution2d_40[0][0]           \n",
      "____________________________________________________________________________________________________\n",
      "maxpooling2d_16 (MaxPooling2D)   (None, 64, 112, 112)  0           convolution2d_41[0][0]           \n",
      "____________________________________________________________________________________________________\n",
      "convolution2d_42 (Convolution2D) (None, 128, 112, 112) 73856       maxpooling2d_16[0][0]            \n",
      "____________________________________________________________________________________________________\n",
      "convolution2d_43 (Convolution2D) (None, 128, 112, 112) 147584      convolution2d_42[0][0]           \n",
      "____________________________________________________________________________________________________\n",
      "maxpooling2d_17 (MaxPooling2D)   (None, 128, 56, 56)   0           convolution2d_43[0][0]           \n",
      "____________________________________________________________________________________________________\n",
      "convolution2d_44 (Convolution2D) (None, 256, 56, 56)   295168      maxpooling2d_17[0][0]            \n",
      "____________________________________________________________________________________________________\n",
      "convolution2d_45 (Convolution2D) (None, 256, 56, 56)   590080      convolution2d_44[0][0]           \n",
      "____________________________________________________________________________________________________\n",
      "convolution2d_46 (Convolution2D) (None, 256, 56, 56)   590080      convolution2d_45[0][0]           \n",
      "____________________________________________________________________________________________________\n",
      "maxpooling2d_18 (MaxPooling2D)   (None, 256, 28, 28)   0           convolution2d_46[0][0]           \n",
      "____________________________________________________________________________________________________\n",
      "convolution2d_47 (Convolution2D) (None, 512, 28, 28)   1180160     maxpooling2d_18[0][0]            \n",
      "____________________________________________________________________________________________________\n",
      "convolution2d_48 (Convolution2D) (None, 512, 28, 28)   2359808     convolution2d_47[0][0]           \n",
      "____________________________________________________________________________________________________\n",
      "convolution2d_49 (Convolution2D) (None, 512, 28, 28)   2359808     convolution2d_48[0][0]           \n",
      "____________________________________________________________________________________________________\n",
      "maxpooling2d_19 (MaxPooling2D)   (None, 512, 14, 14)   0           convolution2d_49[0][0]           \n",
      "____________________________________________________________________________________________________\n",
      "convolution2d_50 (Convolution2D) (None, 512, 14, 14)   2359808     maxpooling2d_19[0][0]            \n",
      "____________________________________________________________________________________________________\n",
      "convolution2d_51 (Convolution2D) (None, 512, 14, 14)   2359808     convolution2d_50[0][0]           \n",
      "____________________________________________________________________________________________________\n",
      "convolution2d_52 (Convolution2D) (None, 512, 14, 14)   2359808     convolution2d_51[0][0]           \n",
      "____________________________________________________________________________________________________\n",
      "maxpooling2d_20 (MaxPooling2D)   (None, 512, 7, 7)     0           convolution2d_52[0][0]           \n",
      "____________________________________________________________________________________________________\n",
      "flatten_4 (Flatten)              (None, 25088)         0           maxpooling2d_20[0][0]            \n",
      "____________________________________________________________________________________________________\n",
      "dense_14 (Dense)                 (None, 4096)          102764544   flatten_4[0][0]                  \n",
      "____________________________________________________________________________________________________\n",
      "dropout_9 (Dropout)              (None, 4096)          0           dense_14[0][0]                   \n",
      "____________________________________________________________________________________________________\n",
      "dense_15 (Dense)                 (None, 4096)          16781312    dropout_9[0][0]                  \n",
      "____________________________________________________________________________________________________\n",
      "dropout_10 (Dropout)             (None, 4096)          0           dense_15[0][0]                   \n",
      "____________________________________________________________________________________________________\n",
      "dense_16 (Dense)                 (None, 1000)          4097000     dropout_10[0][0]                 \n",
      "====================================================================================================\n",
      "Total params: 138,357,544\n",
      "Trainable params: 138,357,544\n",
      "Non-trainable params: 0\n",
      "____________________________________________________________________________________________________\n"
     ]
    }
   ],
   "source": [
    "from keras import backend as K\n",
    "from keras.models import Sequential\n",
    "from keras.utils.data_utils import get_file\n",
    "from keras.layers.core import Lambda, Flatten, Dense, Dropout\n",
    "from keras.layers.convolutional import Convolution2D, MaxPooling2D\n",
    "import numpy as np\n",
    "\n",
    "vgg_mean = np.array([123.68, 116.779, 103.939], dtype=np.float32).reshape((3, 1, 1))\n",
    "def vgg_preprocess(x):\n",
    "    # subtracts the mean so that we get a 0-centered value\n",
    "    x = x - vgg_mean\n",
    "    \n",
    "    # reverses the axis, since most pretrained data comes from OpenCV, which uses BGR rather than RGB\n",
    "    return x[:, ::-1]\n",
    "\n",
    "def vgg_convblock(model, layers, filters):\n",
    "    for _ in xrange(0, layers):\n",
    "        model.add(Convolution2D(filters, 3, 3, border_mode='same', activation='relu'))\n",
    "    model.add(MaxPooling2D((2, 2), strides=(2, 2)))\n",
    "\n",
    "model = Sequential()\n",
    "model.add(Lambda(vgg_preprocess, input_shape=(3, 224, 224), output_shape=(3,224,224)))\n",
    "\n",
    "vgg_convblock(model, 2, 64)\n",
    "vgg_convblock(model, 2, 128)\n",
    "vgg_convblock(model, 3, 256)\n",
    "vgg_convblock(model, 3, 512)\n",
    "vgg_convblock(model, 3, 512)\n",
    "\n",
    "model.add(Flatten())\n",
    "model.add(Dense(4096, activation='relu'))\n",
    "model.add(Dropout(0.5))\n",
    "model.add(Dense(4096, activation='relu'))\n",
    "model.add(Dropout(0.5))\n",
    "model.add(Dense(1000, activation='softmax'))\n",
    "\n",
    "weights_file = get_file('vgg16.h5', download_path+'vgg16.h5', cache_subdir='models')\n",
    "model.load_weights(weights_file)\n",
    "model.summary()"
   ]
  },
  {
   "cell_type": "markdown",
   "metadata": {},
   "source": [
    "# Finetune the model"
   ]
  },
  {
   "cell_type": "code",
   "execution_count": null,
   "metadata": {
    "scrolled": true
   },
   "outputs": [],
   "source": []
  },
  {
   "cell_type": "code",
   "execution_count": 15,
   "metadata": {},
   "outputs": [
    {
     "name": "stdout",
     "output_type": "stream",
     "text": [
      "____________________________________________________________________________________________________\n",
      "Layer (type)                     Output Shape          Param #     Connected to                     \n",
      "====================================================================================================\n",
      "lambda_4 (Lambda)                (None, 3, 224, 224)   0           lambda_input_4[0][0]             \n",
      "____________________________________________________________________________________________________\n",
      "convolution2d_40 (Convolution2D) (None, 64, 224, 224)  1792        lambda_4[0][0]                   \n",
      "____________________________________________________________________________________________________\n",
      "convolution2d_41 (Convolution2D) (None, 64, 224, 224)  36928       convolution2d_40[0][0]           \n",
      "____________________________________________________________________________________________________\n",
      "maxpooling2d_16 (MaxPooling2D)   (None, 64, 112, 112)  0           convolution2d_41[0][0]           \n",
      "____________________________________________________________________________________________________\n",
      "convolution2d_42 (Convolution2D) (None, 128, 112, 112) 73856       maxpooling2d_16[0][0]            \n",
      "____________________________________________________________________________________________________\n",
      "convolution2d_43 (Convolution2D) (None, 128, 112, 112) 147584      convolution2d_42[0][0]           \n",
      "____________________________________________________________________________________________________\n",
      "maxpooling2d_17 (MaxPooling2D)   (None, 128, 56, 56)   0           convolution2d_43[0][0]           \n",
      "____________________________________________________________________________________________________\n",
      "convolution2d_44 (Convolution2D) (None, 256, 56, 56)   295168      maxpooling2d_17[0][0]            \n",
      "____________________________________________________________________________________________________\n",
      "convolution2d_45 (Convolution2D) (None, 256, 56, 56)   590080      convolution2d_44[0][0]           \n",
      "____________________________________________________________________________________________________\n",
      "convolution2d_46 (Convolution2D) (None, 256, 56, 56)   590080      convolution2d_45[0][0]           \n",
      "____________________________________________________________________________________________________\n",
      "maxpooling2d_18 (MaxPooling2D)   (None, 256, 28, 28)   0           convolution2d_46[0][0]           \n",
      "____________________________________________________________________________________________________\n",
      "convolution2d_47 (Convolution2D) (None, 512, 28, 28)   1180160     maxpooling2d_18[0][0]            \n",
      "____________________________________________________________________________________________________\n",
      "convolution2d_48 (Convolution2D) (None, 512, 28, 28)   2359808     convolution2d_47[0][0]           \n",
      "____________________________________________________________________________________________________\n",
      "convolution2d_49 (Convolution2D) (None, 512, 28, 28)   2359808     convolution2d_48[0][0]           \n",
      "____________________________________________________________________________________________________\n",
      "maxpooling2d_19 (MaxPooling2D)   (None, 512, 14, 14)   0           convolution2d_49[0][0]           \n",
      "____________________________________________________________________________________________________\n",
      "convolution2d_50 (Convolution2D) (None, 512, 14, 14)   2359808     maxpooling2d_19[0][0]            \n",
      "____________________________________________________________________________________________________\n",
      "convolution2d_51 (Convolution2D) (None, 512, 14, 14)   2359808     convolution2d_50[0][0]           \n",
      "____________________________________________________________________________________________________\n",
      "convolution2d_52 (Convolution2D) (None, 512, 14, 14)   2359808     convolution2d_51[0][0]           \n",
      "____________________________________________________________________________________________________\n",
      "maxpooling2d_20 (MaxPooling2D)   (None, 512, 7, 7)     0           convolution2d_52[0][0]           \n",
      "____________________________________________________________________________________________________\n",
      "flatten_4 (Flatten)              (None, 25088)         0           maxpooling2d_20[0][0]            \n",
      "____________________________________________________________________________________________________\n",
      "dense_14 (Dense)                 (None, 4096)          102764544   flatten_4[0][0]                  \n",
      "____________________________________________________________________________________________________\n",
      "dropout_9 (Dropout)              (None, 4096)          0           dense_14[0][0]                   \n",
      "____________________________________________________________________________________________________\n",
      "dense_15 (Dense)                 (None, 4096)          16781312    dropout_9[0][0]                  \n",
      "____________________________________________________________________________________________________\n",
      "dropout_10 (Dropout)             (None, 4096)          0           dense_15[0][0]                   \n",
      "____________________________________________________________________________________________________\n",
      "batchnormalization_3 (BatchNorma (None, 4096)          16384       dropout_10[0][0]                 \n",
      "____________________________________________________________________________________________________\n",
      "dense_17 (Dense)                 (None, 10)            40970       batchnormalization_3[0][0]       \n",
      "====================================================================================================\n",
      "Total params: 134,317,898\n",
      "Trainable params: 119,595,018\n",
      "Non-trainable params: 14,722,880\n",
      "____________________________________________________________________________________________________\n"
     ]
    }
   ],
   "source": [
    "from keras.layers.normalization import BatchNormalization\n",
    "\n",
    "for layer in model.layers[0:-5]:\n",
    "    layer.trainable = False\n",
    "\n",
    "model.pop()\n",
    "model.add(BatchNormalization())\n",
    "model.add(Dense(10, activation='softmax'))\n",
    "model.summary()"
   ]
  },
  {
   "cell_type": "code",
   "execution_count": 16,
   "metadata": {
    "collapsed": true
   },
   "outputs": [],
   "source": [
    "from keras.optimizers import Adam\n",
    "model.compile(optimizer=Adam(lr=0.001), loss='categorical_crossentropy', metrics=['accuracy'])"
   ]
  },
  {
   "cell_type": "code",
   "execution_count": 25,
   "metadata": {
    "collapsed": true
   },
   "outputs": [],
   "source": [
    "from keras.preprocessing.image import ImageDataGenerator\n",
    "def batch_gen(path, class_mode='categorical'):\n",
    "    return ImageDataGenerator().flow_from_directory(path, target_size=(224, 224), batch_size=8, class_mode=class_mode)"
   ]
  },
  {
   "cell_type": "code",
   "execution_count": 17,
   "metadata": {},
   "outputs": [
    {
     "name": "stdout",
     "output_type": "stream",
     "text": [
      "Found 20180 images belonging to 10 classes.\n",
      "Found 2244 images belonging to 10 classes.\n",
      "Epoch 1/5\n",
      "20180/20180 [==============================] - 388s - loss: 0.8399 - acc: 0.7245 - val_loss: 0.6901 - val_acc: 0.7709\n",
      "Epoch 2/5\n",
      "20180/20180 [==============================] - 391s - loss: 0.3768 - acc: 0.8783 - val_loss: 0.3722 - val_acc: 0.8739\n",
      "Epoch 3/5\n",
      "20180/20180 [==============================] - 392s - loss: 0.2445 - acc: 0.9210 - val_loss: 0.3995 - val_acc: 0.8583\n",
      "Epoch 4/5\n",
      "20180/20180 [==============================] - 392s - loss: 0.1574 - acc: 0.9500 - val_loss: 0.4482 - val_acc: 0.8485\n",
      "Epoch 5/5\n",
      "20180/20180 [==============================] - 389s - loss: 0.1025 - acc: 0.9682 - val_loss: 0.2498 - val_acc: 0.9198\n"
     ]
    },
    {
     "data": {
      "text/plain": [
       "<keras.callbacks.History at 0x99839dd8>"
      ]
     },
     "execution_count": 17,
     "metadata": {},
     "output_type": "execute_result"
    }
   ],
   "source": [
    "train_gen = batch_gen(trainpath)\n",
    "valid_gen = batch_gen(validpath)\n",
    "\n",
    "model.fit_generator(train_gen, samples_per_epoch=train_gen.nb_sample, nb_epoch=5, \n",
    "                    validation_data=valid_gen, nb_val_samples=valid_gen.nb_sample)"
   ]
  },
  {
   "cell_type": "code",
   "execution_count": 22,
   "metadata": {},
   "outputs": [],
   "source": [
    "import os\n",
    "models_path = path+'/models/'\n",
    "if not os.path.exists(models_path):\n",
    "    os.makedirs(models_path)\n",
    "model.save_weights(models_path+'vgg16_bn.h5')"
   ]
  },
  {
   "cell_type": "markdown",
   "metadata": {},
   "source": [
    "# Generate submission"
   ]
  },
  {
   "cell_type": "code",
   "execution_count": 65,
   "metadata": {},
   "outputs": [
    {
     "name": "stdout",
     "output_type": "stream",
     "text": [
      "Found 79726 images belonging to 1 classes.\n"
     ]
    }
   ],
   "source": [
    "testpath = path + '/test'\n",
    "test_gen = batch_gen(testpath, class_mode=None)"
   ]
  },
  {
   "cell_type": "code",
   "execution_count": 66,
   "metadata": {},
   "outputs": [],
   "source": [
    "predictions = model.predict_generator(test_gen, test_gen.nb_sample)"
   ]
  },
  {
   "cell_type": "code",
   "execution_count": 67,
   "metadata": {},
   "outputs": [],
   "source": [
    "for _, _, files in sorted(os.walk(testpath+'/unknown'), key=lambda tpl: tpl[0]):\n",
    "    with open(path+'/submission.csv', 'wb') as csvfile:\n",
    "        writer = csv.writer(csvfile)\n",
    "        writer.writerow(['img','c0','c1','c2','c3','c4','c5','c6','c7','c8','c9'])\n",
    "        for filename, file_predictions in zip(files, predictions):\n",
    "            writer.writerow([filename] + file_predictions.tolist())"
   ]
  },
  {
   "cell_type": "code",
   "execution_count": null,
   "metadata": {
    "collapsed": true
   },
   "outputs": [],
   "source": []
  }
 ],
 "metadata": {
  "kernelspec": {
   "display_name": "Python 2",
   "language": "python",
   "name": "python2"
  },
  "language_info": {
   "codemirror_mode": {
    "name": "ipython",
    "version": 2
   },
   "file_extension": ".py",
   "mimetype": "text/x-python",
   "name": "python",
   "nbconvert_exporter": "python",
   "pygments_lexer": "ipython2",
   "version": "2.7.13"
  }
 },
 "nbformat": 4,
 "nbformat_minor": 2
}
